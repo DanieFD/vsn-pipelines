{
 "cells": [
  {
   "cell_type": "markdown",
   "metadata": {},
   "source": [
    "# VSN Pipelines: pycisTopic QC report\n",
    "\n",
    "scATAC-seq quality control and cell calling from pycisTopic (https://github.com/aertslab/pycisTopic)"
   ]
  },
  {
   "cell_type": "code",
   "execution_count": null,
   "metadata": {},
   "outputs": [],
   "source": [
    "import pycisTopic\n",
    "pycisTopic.__version__"
   ]
  },
  {
   "cell_type": "code",
   "execution_count": null,
   "metadata": {},
   "outputs": [],
   "source": [
    "import warnings\n",
    "warnings.filterwarnings('ignore')\n",
    "warnings.simplefilter('ignore')"
   ]
  },
  {
   "cell_type": "code",
   "execution_count": null,
   "metadata": {},
   "outputs": [],
   "source": [
    "import pybiomart as pbm\n",
    "import pandas as pd\n",
    "import pickle\n",
    "import re\n",
    "import os\n",
    "import json\n",
    "\n",
    "import matplotlib.pyplot as plt\n",
    "import numpy as np\n",
    "import seaborn as sns\n",
    "\n",
    "%matplotlib inline"
   ]
  },
  {
   "cell_type": "code",
   "execution_count": null,
   "metadata": {},
   "outputs": [],
   "source": [
    "params = json.loads(WORKFLOW_PARAMETERS)\n",
    "\n",
    "sample_ids = SAMPLES.split(',')\n",
    "\n",
    "print(f\"SAMPLES: {sample_ids}\")\n",
    "print(f\"pycisTopic parameters: {json.dumps(params, indent=4)}\")"
   ]
  },
  {
   "cell_type": "code",
   "execution_count": null,
   "metadata": {},
   "outputs": [],
   "source": [
    "# Load metadata\n",
    "infile = open('project_metadata.pickle', 'rb')\n",
    "metadata_bc_dict = pickle.load(infile)\n",
    "infile.close()"
   ]
  },
  {
   "cell_type": "code",
   "execution_count": null,
   "metadata": {},
   "outputs": [],
   "source": [
    "# Load profile data\n",
    "infile = open('project_profile_data.pickle', 'rb')\n",
    "profile_data_dict = pickle.load(infile)\n",
    "infile.close()"
   ]
  },
  {
   "cell_type": "markdown",
   "metadata": {},
   "source": [
    "## QC summary"
   ]
  },
  {
   "cell_type": "code",
   "execution_count": null,
   "metadata": {},
   "outputs": [],
   "source": [
    "from pycisTopic.qc import plot_sample_metrics\n",
    "from scipy.stats import gaussian_kde"
   ]
  },
  {
   "cell_type": "markdown",
   "metadata": {},
   "source": [
    "### Per-sample"
   ]
  },
  {
   "cell_type": "code",
   "execution_count": null,
   "metadata": {},
   "outputs": [],
   "source": [
    "for sample_id in profile_data_dict:\n",
    "    plot_sample_metrics({sample_id: profile_data_dict[sample_id]},\n",
    "               profile_list=['barcode_rank_plot', 'insert_size_distribution', 'profile_tss', 'frip'],\n",
    "               insert_size_distriubtion_xlim=[0,600],\n",
    "               ncol=4,\n",
    "               cmap='tab20',\n",
    "               plot=True)\n",
    "plt.show()"
   ]
  },
  {
   "cell_type": "markdown",
   "metadata": {},
   "source": [
    "### Combined"
   ]
  },
  {
   "cell_type": "code",
   "execution_count": null,
   "metadata": {},
   "outputs": [],
   "source": [
    "plot_sample_metrics(profile_data_dict,\n",
    "           profile_list=['barcode_rank_plot', 'insert_size_distribution', 'profile_tss', 'frip'],\n",
    "           insert_size_distriubtion_xlim=[0,600],\n",
    "           ncol=4,\n",
    "           cmap='tab20',\n",
    "           plot=True)\n",
    "plt.show()"
   ]
  },
  {
   "cell_type": "markdown",
   "metadata": {},
   "source": [
    "## Cell calling"
   ]
  },
  {
   "cell_type": "code",
   "execution_count": null,
   "metadata": {},
   "outputs": [],
   "source": [
    "def plot_frag_qc(x, y, \n",
    "                 ax,\n",
    "                 x_thr_min=None, x_thr_max=None,\n",
    "                 y_thr_min=None, y_thr_max=None,\n",
    "                 ylab=None,\n",
    "                 xlab=\"Number of (unique) fragments\",\n",
    "                 cmap='viridis',\n",
    "                 density_overlay=False,\n",
    "                 s=10,\n",
    "                 marker='+',\n",
    "                 c='#343434',\n",
    "                 xlim=None,\n",
    "                 ylim=None,\n",
    "                 **kwargs\n",
    "                ):\n",
    "    assert all(x.index == y.index)\n",
    "    barcodes = x.index.values\n",
    "    if density_overlay:\n",
    "        xy = np.vstack([np.log(x),y])\n",
    "        z = gaussian_kde(xy)(xy)\n",
    "        idx = z.argsort()\n",
    "        x, y, z, barcodes = x[idx], y[idx], z[idx], barcodes[idx]\n",
    "    else:\n",
    "        z=c\n",
    "    barcodes_to_keep=[]\n",
    "    sp=ax.scatter(x, y, c=z, s=s, edgecolors=None, marker=marker, cmap=cmap, **kwargs)\n",
    "    if ylim is not None:\n",
    "        ax.set_ylim(ylim[0], ylim[1])\n",
    "    if xlim is not None:\n",
    "        ax.set_xlim(xlim[0], xlim[1])\n",
    "    # thresholds:\n",
    "    if x_thr_min is not None:    \n",
    "        ax.axvline(x=x_thr_min, color='r', linestyle='--')\n",
    "        barcodes_to_keep.append(barcodes[x>x_thr_min])\n",
    "    if x_thr_max is not None:    \n",
    "        ax.axvline(x=x_thr_max, color='r', linestyle='--')\n",
    "        barcodes_to_keep.append(barcodes[x<x_thr_max])\n",
    "    if y_thr_min is not None:    \n",
    "        ax.axhline(y=y_thr_min, color='r', linestyle='--')\n",
    "        barcodes_to_keep.append(barcodes[y>y_thr_min])\n",
    "    if y_thr_max is not None:    \n",
    "        ax.axhline(y=y_thr_max, color='r', linestyle='--')\n",
    "        barcodes_to_keep.append(barcodes[y<y_thr_max])\n",
    "    ax.set_xscale(\"log\")\n",
    "    ax.set_xmargin(0.01)\n",
    "    ax.set_ymargin(0.01)\n",
    "    ax.set_xlabel(xlab,fontsize=10)\n",
    "    ax.set_ylabel(ylab,fontsize=10)\n",
    "    #return barcodes_to_keep\n",
    "    if len(barcodes_to_keep)>0:\n",
    "        return list(set.intersection(*map(set, barcodes_to_keep)))\n",
    "    else:\n",
    "        return barcodes"
   ]
  },
  {
   "cell_type": "code",
   "execution_count": null,
   "metadata": {},
   "outputs": [],
   "source": [
    "# extract filter thresholds from Nextflow parameters\n",
    "filter_frags_lower = {}\n",
    "filter_frags_upper = {}\n",
    "filter_tss_lower = {}\n",
    "filter_tss_upper = {}\n",
    "filter_frip_lower = {}\n",
    "filter_frip_upper = {}\n",
    "filter_dup_rate_lower = {}\n",
    "filter_dup_rate_upper = {}\n",
    "\n",
    "def float_or_none(x):\n",
    "    try:\n",
    "        return float(x)\n",
    "    except ValueError:\n",
    "        return None\n",
    "    \n",
    "def extract_sample_specific_param(filter_dict, sample_id, param_key):\n",
    "    if type(params['call_cells'][param_key]) is dict:\n",
    "        if sample_id in params['call_cells'][param_key]:\n",
    "            filter_dict[sample_id] = float_or_none(params['call_cells'][param_key][sample_id])\n",
    "        else:\n",
    "            try:\n",
    "                filter_dict[sample_id] = float_or_none(params['call_cells'][param_key]['default'])\n",
    "            except KeyError:\n",
    "                print(f\"WARNING: Missing 'default' key in the sample parameters list. Filter for '{param_key}' will be missing for sample '{sample_id}'.\")\n",
    "                filter_dict[sample_id] = None\n",
    "    else:\n",
    "        filter_dict[sample_id] = float_or_none(params['call_cells'][param_key])\n",
    "    return filter_dict\n",
    "\n",
    "for s in sample_ids:\n",
    "    filter_frags_lower = extract_sample_specific_param(filter_frags_lower, s, 'filter_frags_lower')\n",
    "    filter_frags_upper = extract_sample_specific_param(filter_frags_upper, s, 'filter_frags_upper')\n",
    "    #\n",
    "    filter_tss_lower = extract_sample_specific_param(filter_tss_lower, s, 'filter_tss_lower')\n",
    "    filter_tss_upper = extract_sample_specific_param(filter_tss_upper, s, 'filter_tss_upper')\n",
    "    #\n",
    "    filter_frip_lower = extract_sample_specific_param(filter_frip_lower, s, 'filter_frip_lower')\n",
    "    filter_frip_upper = extract_sample_specific_param(filter_frip_upper, s, 'filter_frip_upper')\n",
    "    #\n",
    "    filter_dup_rate_lower = extract_sample_specific_param(filter_dup_rate_lower, s, 'filter_dup_rate_lower')\n",
    "    filter_dup_rate_upper = extract_sample_specific_param(filter_dup_rate_upper, s, 'filter_dup_rate_upper')\n"
   ]
  },
  {
   "cell_type": "code",
   "execution_count": null,
   "metadata": {},
   "outputs": [],
   "source": [
    "# show cell filters:\n",
    "print(f\"Filter parameters:\")\n",
    "print(f\"filter_frags_lower: {json.dumps(filter_frags_lower, indent=4)}\")\n",
    "print(f\"filter_frags_upper: {json.dumps(filter_frags_upper, indent=4)}\")\n",
    "print(f\"filter_tss_lower: {json.dumps(filter_tss_lower, indent=4)}\")\n",
    "print(f\"filter_tss_upper: {json.dumps(filter_tss_upper, indent=4)}\")\n",
    "print(f\"filter_frip_lower: {json.dumps(filter_frip_lower, indent=4)}\")\n",
    "print(f\"filter_frip_upper: {json.dumps(filter_frip_upper, indent=4)}\")\n",
    "print(f\"filter_dup_rate_lower: {json.dumps(filter_dup_rate_lower, indent=4)}\")\n",
    "print(f\"filter_dup_rate_upper: {json.dumps(filter_dup_rate_upper, indent=4)}\")"
   ]
  },
  {
   "cell_type": "code",
   "execution_count": null,
   "metadata": {},
   "outputs": [],
   "source": [
    "include_kde = params['call_cells']['use_density_coloring_on_scatterplot']\n",
    "detailed_title=params['call_cells']['use_detailed_title_on_scatterplot']\n",
    "s=4\n",
    "bc_passing_filters = {}\n",
    "for k,v in metadata_bc_dict.items():\n",
    "\n",
    "    fig, (ax1,ax2,ax3) = plt.subplots(1,3, figsize=(12,4), dpi=150 )\n",
    "    p1_cells = plot_frag_qc(\n",
    "        x = metadata_bc_dict[k]['Unique_nr_frag'],\n",
    "        y = metadata_bc_dict[k]['TSS_enrichment'],\n",
    "        ylab = 'TSS Enrichment',\n",
    "        s=s,\n",
    "        x_thr_min=filter_frags_lower[k],\n",
    "        y_thr_min=filter_tss_lower[k],\n",
    "        density_overlay=include_kde,\n",
    "        ax=ax1\n",
    "    )\n",
    "    p2_cells = plot_frag_qc(\n",
    "        x = metadata_bc_dict[k]['Unique_nr_frag'],\n",
    "        y = metadata_bc_dict[k]['FRIP'],\n",
    "        x_thr_min=filter_frags_lower[k],\n",
    "        ylab = 'FRIP',\n",
    "        s=s,\n",
    "        ylim=[0,1],\n",
    "        density_overlay=include_kde,\n",
    "        ax=ax2\n",
    "    )\n",
    "    p3_cells = plot_frag_qc(\n",
    "        x = metadata_bc_dict[k]['Unique_nr_frag'],\n",
    "        y = metadata_bc_dict[k]['Dupl_rate'],\n",
    "        x_thr_min=filter_frags_lower[k],\n",
    "        ylab = 'Duplicate rate per cell',\n",
    "        s=s,\n",
    "        ylim=[0,1],\n",
    "        density_overlay=include_kde,\n",
    "        ax=ax3\n",
    "    )\n",
    "    bc_passing_filters[k] = list(set(p1_cells) & set(p2_cells) & set(p3_cells))\n",
    "    if detailed_title:\n",
    "        med_nf = metadata_bc_dict[k].loc[bc_passing_filters[k],'Unique_nr_frag'].median()\n",
    "        med_tss = metadata_bc_dict[k].loc[bc_passing_filters[k],'TSS_enrichment'].median()\n",
    "        title = f\"{k}: Kept {len(bc_passing_filters[k])} cells. Median(fragments): {med_nf:.0f}. Median(TSS Enrichment): {med_tss:.2f})\"\n",
    "    else:\n",
    "        title = k\n",
    "    fig.suptitle(title, x=0.5, y=0.95, fontsize=10)\n",
    "    plt.tight_layout()\n",
    "\n",
    "plt.show()"
   ]
  },
  {
   "cell_type": "code",
   "execution_count": null,
   "metadata": {},
   "outputs": [],
   "source": [
    "with open('bc_passing_filters.pkl', 'wb') as f:\n",
    "  pickle.dump(bc_passing_filters, f)"
   ]
  },
  {
   "cell_type": "code",
   "execution_count": null,
   "metadata": {},
   "outputs": [],
   "source": [
    "# write all barcodes selected in compute_qc_stats (with nFrag>x)\n",
    "if not os.path.exists('selected_barcodes_nFrag'):\n",
    "    os.makedirs('selected_barcodes_nFrag')\n",
    "    \n",
    "for k,v in metadata_bc_dict.items():\n",
    "    pd.DataFrame(v.index).to_csv('selected_barcodes_nFrag/'+k+'.barcodes_nFrag_thr.txt', sep='\\t', header=False, index=False)"
   ]
  },
  {
   "cell_type": "code",
   "execution_count": null,
   "metadata": {},
   "outputs": [],
   "source": [
    "# write all cell barcodes selected by filtering\n",
    "if not os.path.exists('selected_barcodes'):\n",
    "    os.makedirs('selected_barcodes')\n",
    "    \n",
    "for k,v in bc_passing_filters.items():\n",
    "    pd.DataFrame(v).to_csv('selected_barcodes/'+k+'.cell_barcodes.txt', sep='\\t', header=False, index=False)"
   ]
  },
  {
   "cell_type": "markdown",
   "metadata": {},
   "source": [
    "## Summary"
   ]
  },
  {
   "cell_type": "code",
   "execution_count": null,
   "metadata": {},
   "outputs": [],
   "source": [
    "tp = pd.DataFrame([\n",
    "    list(bc_passing_filters),\n",
    "    [ len(bc_passing_filters[x]) for x in bc_passing_filters ]\n",
    "\n",
    "]).T\n",
    "\n",
    "fig, ax = plt.subplots(1,1, figsize=(6,4), dpi=150 )\n",
    "g=sns.barplot(x=1, y=0, data=tp,\n",
    "           palette='tab20')\n",
    "for p in ax.patches:\n",
    "    width = p.get_width()    # get bar length\n",
    "    ax.text(width,           # set the text at 1 unit right of the bar\n",
    "            p.get_y() + p.get_height() / 2, # get Y coordinate + X coordinate / 2\n",
    "            '{:1.0f}'.format(width), # set variable to display, 2 decimals\n",
    "            ha = 'right',   # horizontal alignment\n",
    "            va = 'center')  # vertical alignment\n",
    "ax.set_xlabel(\"Number of cells\",fontsize=10)\n",
    "ax.set_ylabel(\"\",fontsize=10)\n",
    "plt.show()\n",
    "plt.tight_layout()"
   ]
  },
  {
   "cell_type": "code",
   "execution_count": null,
   "metadata": {},
   "outputs": [],
   "source": [
    "from matplotlib import ticker as mticker\n",
    "import matplotlib.gridspec as gridspec\n",
    "import math"
   ]
  },
  {
   "cell_type": "code",
   "execution_count": null,
   "metadata": {},
   "outputs": [],
   "source": [
    "def plot_stats_violin(\n",
    "    data,\n",
    "    ax,\n",
    "    var = 'Unique_nr_frag',\n",
    "    ylab='Number of (unique) fragments',\n",
    "    xlab='',\n",
    "    logscale=True,\n",
    "    **kwargs\n",
    "    ):\n",
    "\n",
    "    tp = []\n",
    "    for k,v in data.items():\n",
    "        tmp = pd.DataFrame(np.log10(data[k][var])) if logscale else pd.DataFrame(data[k][var])\n",
    "        tmp['Sample'] = k\n",
    "        tp.append(tmp)\n",
    "    tp = pd.concat(tp, join='outer', axis=0)\n",
    "\n",
    "    yrange = [ int(math.floor(tp[var].min())), int(math.ceil(tp[var].max())) ]\n",
    "    \n",
    "    g = sns.violinplot(data=tp, x='Sample', y=var,\n",
    "                       dodge=True,\n",
    "                       linewidth=0.5,\n",
    "                       inner='quartiles',\n",
    "                       ax=ax, kind='kde',\n",
    "                       **kwargs)\n",
    "    \n",
    "    ax.set_xlabel(xlab,fontsize=10)\n",
    "    ax.set_ylabel(ylab,fontsize=10)\n",
    "    g.set_xticklabels(g.get_xticklabels(), rotation=15, ha='right', fontsize=8)\n",
    "\n",
    "    plt.tight_layout()"
   ]
  },
  {
   "cell_type": "code",
   "execution_count": null,
   "metadata": {},
   "outputs": [],
   "source": [
    "fig, ax1 = plt.subplots(1,1, figsize=(8,4), dpi=150 )\n",
    "\n",
    "plot_stats_violin(\n",
    "    metadata_bc_dict,\n",
    "    ax=ax1,\n",
    "    split=False,\n",
    "    #palette='tab20',\n",
    "    color=\"#a6a6a6\",\n",
    "    ylab='log10 Number of (unique) fragments',\n",
    "    var='Unique_nr_frag')\n",
    "\n",
    "plt.show()\n",
    "plt.tight_layout()"
   ]
  },
  {
   "cell_type": "code",
   "execution_count": null,
   "metadata": {},
   "outputs": [],
   "source": [
    "fig, ax1 = plt.subplots(1,1, figsize=(8,4), dpi=150 )\n",
    "\n",
    "plot_stats_violin(\n",
    "    metadata_bc_dict,\n",
    "    ax=ax1,\n",
    "    split=False,\n",
    "    #palette='tab20',\n",
    "    color=\"#a6a6a6\",\n",
    "    logscale=False,\n",
    "    ylab='TSS enrichment',\n",
    "    var='TSS_enrichment')\n",
    "\n",
    "plt.show()\n",
    "plt.tight_layout()"
   ]
  },
  {
   "cell_type": "code",
   "execution_count": null,
   "metadata": {},
   "outputs": [],
   "source": [
    "fig, ax1 = plt.subplots(1,1, figsize=(8,4), dpi=150 )\n",
    "\n",
    "plot_stats_violin(\n",
    "    metadata_bc_dict,\n",
    "    ax=ax1,\n",
    "    split=False,\n",
    "    #palette='tab20',\n",
    "    color=\"#a6a6a6\",\n",
    "    logscale=False,\n",
    "    ylab='Duplicate rate',\n",
    "    var='Dupl_rate')\n",
    "\n",
    "plt.show()\n",
    "plt.tight_layout()"
   ]
  },
  {
   "cell_type": "code",
   "execution_count": null,
   "metadata": {},
   "outputs": [],
   "source": [
    "fig, ax1 = plt.subplots(1,1, figsize=(8,4), dpi=150 )\n",
    "\n",
    "plot_stats_violin(\n",
    "    metadata_bc_dict,\n",
    "    ax=ax1,\n",
    "    split=False,\n",
    "    #alette='tab20',\n",
    "    color=\"#a6a6a6\",\n",
    "    logscale=False,\n",
    "    ylab='FRIP',\n",
    "    var='FRIP')\n",
    "\n",
    "plt.show()\n",
    "plt.tight_layout()"
   ]
  }
 ],
 "metadata": {
  "kernelspec": {
   "display_name": "Python 3",
   "language": "python",
   "name": "python3"
  },
  "language_info": {
   "codemirror_mode": {
    "name": "ipython",
    "version": 3
   },
   "file_extension": ".py",
   "mimetype": "text/x-python",
   "name": "python",
   "nbconvert_exporter": "python",
   "pygments_lexer": "ipython3",
   "version": "3.8.0"
  }
 },
 "nbformat": 4,
 "nbformat_minor": 4
}
